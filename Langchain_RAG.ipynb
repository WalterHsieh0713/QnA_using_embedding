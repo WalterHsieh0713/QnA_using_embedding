{
 "cells": [
  {
   "cell_type": "code",
   "execution_count": null,
   "id": "570ee831",
   "metadata": {},
   "outputs": [],
   "source": [
    "!pip install langchain pypdf sentence_transformers chromadb tiktoken openai\n",
    "\n",
    "from langchain.embeddings.openai import OpenAIEmbeddings\n",
    "from langchain_community.document_loaders.csv_loader import CSVLoader\n",
    "from langchain.text_splitter import  RecursiveCharacterTextSplitter\n",
    "from langchain.vectorstores import Chroma\n",
    "from langchain.chat_models import ChatOpenAI\n",
    "from langchain.chains import ConversationalRetrievalChain"
   ]
  },
  {
   "cell_type": "code",
   "execution_count": null,
   "id": "8d5f3b25",
   "metadata": {},
   "outputs": [],
   "source": [
    "!pip install python-dotenv\n",
    "from dotenv import dotenv_values\n",
    "config = dotenv_values(\"env\")\n",
    "\n",
    "import os\n",
    "os.environ[\"OPENAI_API_KEY\"] = config['OPENAI_API_KEY']"
   ]
  },
  {
   "cell_type": "code",
   "execution_count": null,
   "id": "5d1fca38",
   "metadata": {},
   "outputs": [],
   "source": [
    "file_path = \"civil_laws.csv\"     #upload csv to read & analyze\n",
    "loader = CSVLoader(file_path=\"civil_laws.csv\", encoding = \"utf-8-sig\")"
   ]
  },
  {
   "cell_type": "code",
   "execution_count": null,
   "id": "ff220052",
   "metadata": {
    "scrolled": true
   },
   "outputs": [],
   "source": [
    "texts = loader.load()\n",
    "embeddings = OpenAIEmbeddings()\n",
    "vectorstore = Chroma.from_documents(texts, embeddings)"
   ]
  },
  {
   "cell_type": "code",
   "execution_count": null,
   "id": "7f1e596c",
   "metadata": {},
   "outputs": [],
   "source": [
    "qa = ConversationalRetrievalChain.from_llm(ChatOpenAI(temperature=0), vectorstore.as_retriever())\n",
    "query = input('\\nQ: ')\n",
    "result = qa({\"question\": query, 'chat_history': []})\n",
    "print('A:', result['answer'])"
   ]
  }
 ],
 "metadata": {
  "kernelspec": {
   "display_name": "Python 3 (ipykernel)",
   "language": "python",
   "name": "python3"
  },
  "language_info": {
   "codemirror_mode": {
    "name": "ipython",
    "version": 3
   },
   "file_extension": ".py",
   "mimetype": "text/x-python",
   "name": "python",
   "nbconvert_exporter": "python",
   "pygments_lexer": "ipython3",
   "version": "3.10.9"
  }
 },
 "nbformat": 4,
 "nbformat_minor": 5
}
